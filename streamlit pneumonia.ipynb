{
 "cells": [
  {
   "cell_type": "code",
   "execution_count": 7,
   "id": "6dc2f8ac-6faf-4f14-9717-d17144c56c0e",
   "metadata": {},
   "outputs": [],
   "source": [
    "import streamlit as st\n",
    "import numpy as np\n",
    "import tensorflow as tf\n",
    "from tensorflow.keras.preprocessing import image\n",
    "from PIL import Image"
   ]
  },
  {
   "cell_type": "code",
   "execution_count": null,
   "id": "57acbf01-eb87-4f82-b74d-4e2b55ae6f95",
   "metadata": {},
   "outputs": [
    {
     "name": "stderr",
     "output_type": "stream",
     "text": [
      "2025-05-19 18:45:38.327 \n",
      "  \u001b[33m\u001b[1mWarning:\u001b[0m to view this Streamlit app on a browser, run it with the following\n",
      "  command:\n",
      "\n",
      "    streamlit run c:\\users\\admin\\anaconda3\\lib\\site-packages\\ipykernel_launcher.py [ARGUMENTS]\n"
     ]
    }
   ],
   "source": [
    "# Load trained model\n",
    "model = tf.keras.models.load_model(\"pneumonia_model.h5\")\n",
    "\n",
    "# Class names\n",
    "class_names = ['Normal', 'Pneumonia']\n",
    "\n",
    "st.title(\"🩺 Pneumonia Detection from Chest X-Ray\")\n",
    "st.write(\"Upload a chest X-ray image to predict whether it shows signs of pneumonia.\")\n",
    "\n",
    "uploaded_file = st.file_uploader(\"Choose an X-ray image...\", type=[\"jpg\", \"jpeg\", \"png\"])\n",
    "\n",
    "if uploaded_file is not None:\n",
    "    img = Image.open(uploaded_file).convert('RGB')\n",
    "    st.image(img, caption='Uploaded Image', use_column_width=True)\n",
    "\n",
    "    # Preprocessing\n",
    "    img = img.resize((150, 150))  # Change to your model input size\n",
    "    img_array = image.img_to_array(img) / 255.0\n",
    "    img_array = np.expand_dims(img_array, axis=0)\n",
    "\n",
    "    # Prediction\n",
    "    prediction = model.predict(img_array)\n",
    "    confidence = float(prediction[0][0])\n",
    "\n",
    "    # Output\n",
    "    if confidence > 0.5:\n",
    "        st.error(f\"🔴 Prediction: {class_names[1]} ({confidence:.2f})\")\n",
    "    else:\n",
    "        st.success(f\"🟢 Prediction: {class_names[0]} ({1 - confidence:.2f})\")"
   ]
  },
  {
   "cell_type": "code",
   "execution_count": null,
   "id": "8f5d25ff-3301-4537-ac25-25aab7b0e191",
   "metadata": {},
   "outputs": [],
   "source": []
  }
 ],
 "metadata": {
  "kernelspec": {
   "display_name": "Python 3 (ipykernel)",
   "language": "python",
   "name": "python3"
  },
  "language_info": {
   "codemirror_mode": {
    "name": "ipython",
    "version": 3
   },
   "file_extension": ".py",
   "mimetype": "text/x-python",
   "name": "python",
   "nbconvert_exporter": "python",
   "pygments_lexer": "ipython3",
   "version": "3.8.11"
  }
 },
 "nbformat": 4,
 "nbformat_minor": 5
}
